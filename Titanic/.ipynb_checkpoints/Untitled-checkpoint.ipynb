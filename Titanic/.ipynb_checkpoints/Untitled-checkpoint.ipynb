{
 "cells": [
  {
   "cell_type": "code",
   "execution_count": 1,
   "metadata": {},
   "outputs": [],
   "source": [
    "import numpy as np"
   ]
  },
  {
   "cell_type": "code",
   "execution_count": 4,
   "metadata": {},
   "outputs": [],
   "source": [
    "# arrange (random numbers here!)\n",
    "mean = .44\n",
    "sigma = .666\n",
    "n_perc = 21\n",
    "n_bins = 50\n",
    "n_smpl = 10000\n",
    "data = np.random.lognormal(mean=mean, sigma=sigma, size=(n_smpl))\n",
    "bins_ante, edgs_ante = np.histogram(data, n_bins)\n",
    "ix_max_ante = np.argmax(bins_ante)\n",
    "median_ante = np.median(data)\n",
    "\n",
    "# act (compress, decompress, find location of maximum)\n",
    "#perc = hist2perc(bins_ante, edgs_ante, n_perc)\n",
    "#median_post = perc[n_perc // 2]\n",
    "#bins_post, edgs_post = perc2hist(perc, len(bins_ante), n_smpl)\n",
    "#ix_max_post = np.argmax(bins_post)"
   ]
  },
  {
   "cell_type": "code",
   "execution_count": 8,
   "metadata": {},
   "outputs": [
    {
     "data": {
      "text/plain": [
       "1.5354637508608353"
      ]
     },
     "execution_count": 8,
     "metadata": {},
     "output_type": "execute_result"
    }
   ],
   "source": [
    "median_ante"
   ]
  },
  {
   "cell_type": "code",
   "execution_count": 10,
   "metadata": {},
   "outputs": [],
   "source": [
    "data = np.array([1.,2,2,3,3,3,4,4,4,4,5,5,5,6,6,7])\n",
    "n_bins = 8\n",
    "bins, edgs = np.histogram(data, bins=n_bins, range=(.5,7.5), density=True)\n",
    "n_perc = 101"
   ]
  },
  {
   "cell_type": "code",
   "execution_count": 19,
   "metadata": {},
   "outputs": [
    {
     "data": {
      "text/plain": [
       "array([0.08163265, 0.24489796, 0.48979592, 0.48979592, 0.81632653,\n",
       "       1.06122449, 1.2244898 , 1.30612245])"
      ]
     },
     "execution_count": 19,
     "metadata": {},
     "output_type": "execute_result"
    }
   ],
   "source": [
    "edgs_width = edgs[2]-edgs[1]\n",
    "cdf = np.cumsum(bins)/edgs_width\n",
    "cdf"
   ]
  },
  {
   "cell_type": "code",
   "execution_count": 18,
   "metadata": {},
   "outputs": [
    {
     "data": {
      "text/plain": [
       "array([0.125 , 0.1875, 0.    , 0.25  , 0.1875, 0.125 , 0.0625])"
      ]
     },
     "execution_count": 18,
     "metadata": {},
     "output_type": "execute_result"
    }
   ],
   "source": [
    " np.diff(cdf)"
   ]
  },
  {
   "cell_type": "code",
   "execution_count": 16,
   "metadata": {},
   "outputs": [],
   "source": [
    "perc = 1/cdf"
   ]
  },
  {
   "cell_type": "code",
   "execution_count": 17,
   "metadata": {},
   "outputs": [
    {
     "data": {
      "text/plain": [
       "array([16.        ,  5.33333333,  2.66666667,  2.66666667,  1.6       ,\n",
       "        1.23076923,  1.06666667,  1.        ])"
      ]
     },
     "execution_count": 17,
     "metadata": {},
     "output_type": "execute_result"
    }
   ],
   "source": [
    "perc"
   ]
  },
  {
   "cell_type": "code",
   "execution_count": null,
   "metadata": {},
   "outputs": [],
   "source": [
    "def perc2hist(perc, n_bins, scale=1.):\n",
    "        if len(perc) < 2: raise ValueError(\"perc needs to be at least of length 2\")\n",
    "\n",
    "        # defining the cdf as the inverse of percentiles\n",
    "        cdf = 1/perc\n",
    "\n",
    "        # numerically differentiating the cdf to get a pdf\n",
    "        np.diff(cdf)\n",
    "\n",
    "        # interpolating to a regularily-spaced grid\n",
    "        # ...\n",
    "\n",
    "        # returning and scaling\n",
    "        # ...\n",
    "        return None "
   ]
  }
 ],
 "metadata": {
  "kernelspec": {
   "display_name": "Python 3",
   "language": "python",
   "name": "python3"
  },
  "language_info": {
   "codemirror_mode": {
    "name": "ipython",
    "version": 3
   },
   "file_extension": ".py",
   "mimetype": "text/x-python",
   "name": "python",
   "nbconvert_exporter": "python",
   "pygments_lexer": "ipython3",
   "version": "3.7.3"
  }
 },
 "nbformat": 4,
 "nbformat_minor": 2
}
